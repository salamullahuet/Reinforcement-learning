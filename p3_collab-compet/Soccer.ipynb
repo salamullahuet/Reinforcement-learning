{
 "cells": [
  {
   "cell_type": "markdown",
   "metadata": {},
   "source": [
    "# Collaboration and Competition"
   ]
  },
  {
   "cell_type": "markdown",
   "metadata": {},
   "source": [
    "Congratulations for completing the third project of the Deep Reinforcement Learning Nanodegree program! In this notebook, you will learn how to control agents in a more challenging environment, where the goal is to train a team of agents to play soccer. Note that this exercise is optional!"
   ]
  },
  {
   "cell_type": "markdown",
   "metadata": {},
   "source": [
    "# 1. Start the Environment"
   ]
  },
  {
   "cell_type": "code",
   "execution_count": 1,
   "metadata": {},
   "outputs": [],
   "source": [
    "from unityagents import UnityEnvironment\n",
    "import numpy as np"
   ]
  },
  {
   "cell_type": "markdown",
   "metadata": {},
   "source": [
    "Next, we will start the environment! Before running the code cell below, change the file_name parameter to match the location of the Unity environment that you downloaded.\n",
    "\n",
    "Mac: \"path/to/Soccer.app\"\n",
    "\n",
    "Windows (x86): \"path/to/Soccer_Windows_x86/Soccer.exe\"\n",
    "\n",
    "Windows (x86_64): \"path/to/Soccer_Windows_x86_64/Soccer.exe\"\n",
    "\n",
    "Linux (x86): \"path/to/Soccer_Linux/Soccer.x86\"\n",
    "\n",
    "Linux (x86_64): \"path/to/Soccer_Linux/Soccer.x86_64\"\n",
    "\n",
    "Linux (x86, headless): \"path/to/Soccer_Linux_NoVis/Soccer.x86\"\n",
    "\n",
    "Linux (x86_64, headless): \"path/to/Soccer_Linux_NoVis/Soccer.x86_64\"\n",
    "\n",
    "For instance, if you are using a Mac, then you downloaded Soccer.app. If this file is in the same folder as the notebook, then the line below should appear as follows:\n",
    "\n",
    "env = UnityEnvironment(file_name=\"Soccer.app\")"
   ]
  },
  {
   "cell_type": "code",
   "execution_count": 2,
   "metadata": {},
   "outputs": [
    {
     "name": "stderr",
     "output_type": "stream",
     "text": [
      "INFO:unityagents:\n",
      "'Academy' started successfully!\n",
      "Unity Academy name: Academy\n",
      "        Number of Brains: 2\n",
      "        Number of External Brains : 2\n",
      "        Lesson number : 0\n",
      "        Reset Parameters :\n",
      "\t\t\n",
      "Unity brain name: GoalieBrain\n",
      "        Number of Visual Observations (per agent): 0\n",
      "        Vector Observation space type: continuous\n",
      "        Vector Observation space size (per agent): 112\n",
      "        Number of stacked Vector Observation: 3\n",
      "        Vector Action space type: discrete\n",
      "        Vector Action space size (per agent): 4\n",
      "        Vector Action descriptions: , , , \n",
      "Unity brain name: StrikerBrain\n",
      "        Number of Visual Observations (per agent): 0\n",
      "        Vector Observation space type: continuous\n",
      "        Vector Observation space size (per agent): 112\n",
      "        Number of stacked Vector Observation: 3\n",
      "        Vector Action space type: discrete\n",
      "        Vector Action space size (per agent): 6\n",
      "        Vector Action descriptions: , , , , , \n"
     ]
    }
   ],
   "source": [
    "env = UnityEnvironment(file_name=\"C:/Users/i5/Downloads/udacity-deep-reinforcement-learning/p3_collab-compet/Soccer_Windows_x86_64/Soccer.exe\")"
   ]
  },
  {
   "cell_type": "markdown",
   "metadata": {},
   "source": [
    "Environments contain brains which are responsible for deciding the actions of their associated agents. Here we obtain separate brains for the striker and goalie agents."
   ]
  },
  {
   "cell_type": "code",
   "execution_count": 3,
   "metadata": {},
   "outputs": [
    {
     "name": "stdout",
     "output_type": "stream",
     "text": [
      "['GoalieBrain', 'StrikerBrain']\n"
     ]
    }
   ],
   "source": [
    "# print the brain names\n",
    "print(env.brain_names)\n",
    "\n",
    "# set the goalie brain\n",
    "g_brain_name = env.brain_names[0]\n",
    "g_brain = env.brains[g_brain_name]\n",
    "\n",
    "# set the striker brain\n",
    "s_brain_name = env.brain_names[1]\n",
    "s_brain = env.brains[s_brain_name]"
   ]
  },
  {
   "cell_type": "markdown",
   "metadata": {},
   "source": [
    "# 2. Examine the State and Action Spaces"
   ]
  },
  {
   "cell_type": "code",
   "execution_count": 4,
   "metadata": {},
   "outputs": [
    {
     "name": "stdout",
     "output_type": "stream",
     "text": [
      "Number of goalie agents: 2\n",
      "Number of striker agents: 2\n",
      "Number of goalie actions: 4\n",
      "Number of striker actions: 6\n",
      "There are 2 goalie agents. Each receives a state with length: 336\n",
      "There are 2 striker agents. Each receives a state with length: 336\n"
     ]
    }
   ],
   "source": [
    "# reset the environment\n",
    "env_info = env.reset(train_mode=True)\n",
    "\n",
    "# number of agents \n",
    "num_g_agents = len(env_info[g_brain_name].agents)\n",
    "print('Number of goalie agents:', num_g_agents)\n",
    "num_s_agents = len(env_info[s_brain_name].agents)\n",
    "print('Number of striker agents:', num_s_agents)\n",
    "\n",
    "# number of actions\n",
    "g_action_size = g_brain.vector_action_space_size\n",
    "print('Number of goalie actions:', g_action_size)\n",
    "s_action_size = s_brain.vector_action_space_size\n",
    "print('Number of striker actions:', s_action_size)\n",
    "\n",
    "# examine the state space \n",
    "g_states = env_info[g_brain_name].vector_observations\n",
    "g_state_size = g_states.shape[1]\n",
    "print('There are {} goalie agents. Each receives a state with length: {}'.format(g_states.shape[0], g_state_size))\n",
    "s_states = env_info[s_brain_name].vector_observations\n",
    "s_state_size = s_states.shape[1]\n",
    "print('There are {} striker agents. Each receives a state with length: {}'.format(s_states.shape[0], s_state_size))"
   ]
  },
  {
   "cell_type": "markdown",
   "metadata": {},
   "source": [
    "# 3. Take Random Actions in the Environment"
   ]
  },
  {
   "cell_type": "markdown",
   "metadata": {},
   "source": [
    "In the next code cell, you will learn how to use the Python API to control the agents and receive feedback from the environment.\n",
    "\n",
    "Once this cell is executed, you will watch the agents' performance, if they select actions at random with each time step. A window should pop up that allows you to observe the agents.\n",
    "\n",
    "Of course, as part of the project, you'll have to change the code so that the agents are able to use their experiences to gradually choose better actions when interacting with the environment!"
   ]
  },
  {
   "cell_type": "code",
   "execution_count": 5,
   "metadata": {},
   "outputs": [
    {
     "name": "stdout",
     "output_type": "stream",
     "text": [
      "Scores from episode 1: [-0.33500005  0.76500001] (goalies), [-0.76500001  0.33500005] (strikers)\n",
      "Scores from episode 2: [-0.34166677  0.75833334] (goalies), [-0.75833334  0.34166677] (strikers)\n",
      "Scores from episode 3: [ 0.84333334 -0.25666677] (goalies), [ 0.25666677 -0.84333334] (strikers)\n",
      "Scores from episode 4: [ 0.23       -0.87000012] (goalies), [ 0.87000012 -0.23      ] (strikers)\n",
      "Scores from episode 5: [1.00166669 1.00166669] (goalies), [-1.00166669 -1.00166669] (strikers)\n",
      "Scores from episode 6: [-0.60499999  0.49500001] (goalies), [-0.49500001  0.60499999] (strikers)\n",
      "Scores from episode 7: [ 0.40833333 -0.69166672] (goalies), [ 0.69166672 -0.40833333] (strikers)\n",
      "Scores from episode 8: [ 0.41166667 -0.68833339] (goalies), [ 0.68833339 -0.41166667] (strikers)\n",
      "Scores from episode 9: [1.00166669 1.00166669] (goalies), [-1.00166669 -1.00166669] (strikers)\n",
      "Scores from episode 10: [1.00166669 1.00166669] (goalies), [-1.00166669 -1.00166669] (strikers)\n",
      "Scores from episode 11: [ 0.80666668 -0.29333338] (goalies), [ 0.29333338 -0.80666668] (strikers)\n",
      "Scores from episode 12: [ 1.06166669 -0.03833331] (goalies), [ 0.03833331 -1.06166669] (strikers)\n",
      "Scores from episode 13: [1.00166669 1.00166669] (goalies), [-1.00166669 -1.00166669] (strikers)\n",
      "Scores from episode 14: [ 0.32500001 -0.77500006] (goalies), [ 0.77500006 -0.32500001] (strikers)\n",
      "Scores from episode 15: [1.00166669 1.00166669] (goalies), [-1.00166669 -1.00166669] (strikers)\n",
      "Scores from episode 16: [ 0.90166669 -0.19833332] (goalies), [ 0.19833332 -0.90166669] (strikers)\n",
      "Scores from episode 17: [ 0.49500001 -0.60499999] (goalies), [ 0.60499999 -0.49500001] (strikers)\n",
      "Scores from episode 18: [ 0.26166667 -0.83833333] (goalies), [ 0.83833333 -0.26166667] (strikers)\n",
      "Scores from episode 19: [-0.08666665  1.01333336] (goalies), [-1.01333336  0.08666665] (strikers)\n",
      "Scores from episode 20: [1.00166669 1.00166669] (goalies), [-1.00166669 -1.00166669] (strikers)\n",
      "Scores from episode 21: [1.00166669 1.00166669] (goalies), [-1.00166669 -1.00166669] (strikers)\n",
      "Scores from episode 22: [-0.9  0.2] (goalies), [-0.2  0.9] (strikers)\n",
      "Scores from episode 23: [1.00166669 1.00166669] (goalies), [-1.00166669 -1.00166669] (strikers)\n",
      "Scores from episode 24: [1.00166669 1.00166669] (goalies), [-1.00166669 -1.00166669] (strikers)\n",
      "Scores from episode 25: [-0.895  0.205] (goalies), [-0.205  0.895] (strikers)\n",
      "Scores from episode 26: [ 0.155 -0.945] (goalies), [ 0.945 -0.155] (strikers)\n",
      "Scores from episode 27: [1.00166669 1.00166669] (goalies), [-1.00166669 -1.00166669] (strikers)\n",
      "Scores from episode 28: [ 0.39333334 -0.70666666] (goalies), [ 0.70666666 -0.39333334] (strikers)\n",
      "Scores from episode 29: [-0.58500005  0.51500001] (goalies), [-0.51500001  0.58500005] (strikers)\n",
      "Scores from episode 30: [-0.52166666  0.57833334] (goalies), [-0.57833334  0.52166666] (strikers)\n",
      "Scores from episode 31: [ 0.12833333 -0.97166667] (goalies), [ 0.97166667 -0.12833333] (strikers)\n",
      "Scores from episode 32: [ 0.80000002 -0.30000004] (goalies), [ 0.30000004 -0.80000002] (strikers)\n",
      "Scores from episode 33: [-0.20000004  0.90000002] (goalies), [-0.90000002  0.20000004] (strikers)\n",
      "Scores from episode 34: [-0.43166671  0.66833334] (goalies), [-0.66833334  0.43166671] (strikers)\n",
      "Scores from episode 35: [-0.51333338  0.58666667] (goalies), [-0.58666667  0.51333338] (strikers)\n",
      "Scores from episode 36: [1.00166669 1.00166669] (goalies), [-1.00166669 -1.00166669] (strikers)\n",
      "Scores from episode 37: [1.00166669 1.00166669] (goalies), [-1.00166669 -1.00166669] (strikers)\n",
      "Scores from episode 38: [1.00166669 1.00166669] (goalies), [-1.00166669 -1.00166669] (strikers)\n",
      "Scores from episode 39: [ 0.14666666 -0.95333345] (goalies), [ 0.95333345 -0.14666666] (strikers)\n",
      "Scores from episode 40: [1.00166669 1.00166669] (goalies), [-1.00166669 -1.00166669] (strikers)\n",
      "Scores from episode 41: [ 0.80666668 -0.29333332] (goalies), [ 0.29333332 -0.80666668] (strikers)\n",
      "Scores from episode 42: [1.00166669 1.00166669] (goalies), [-1.00166669 -1.00166669] (strikers)\n",
      "Scores from episode 43: [1.00166669 1.00166669] (goalies), [-1.00166669 -1.00166669] (strikers)\n",
      "Scores from episode 44: [ 0.73000002 -0.36999999] (goalies), [ 0.36999999 -0.73000002] (strikers)\n",
      "Scores from episode 45: [ 0.94666668 -0.15333343] (goalies), [ 0.15333343 -0.94666668] (strikers)\n",
      "Scores from episode 46: [ 0.63166668 -0.46833338] (goalies), [ 0.46833338 -0.63166668] (strikers)\n",
      "Scores from episode 47: [1.00166669 1.00166669] (goalies), [-1.00166669 -1.00166669] (strikers)\n",
      "Scores from episode 48: [ 0.30166667 -0.79833333] (goalies), [ 0.79833333 -0.30166667] (strikers)\n",
      "Scores from episode 49: [1.00166669 1.00166669] (goalies), [-1.00166669 -1.00166669] (strikers)\n",
      "Scores from episode 50: [-0.02833337  1.07166669] (goalies), [-1.07166669  0.02833337] (strikers)\n"
     ]
    }
   ],
   "source": [
    "\n",
    "for i in range(50):                                         # play game for 2 episodes\n",
    "    env_info = env.reset(train_mode=False)                 # reset the environment    \n",
    "    g_states = env_info[g_brain_name].vector_observations  # get initial state (goalies)\n",
    "    s_states = env_info[s_brain_name].vector_observations  # get initial state (strikers)\n",
    "    g_scores = np.zeros(num_g_agents)                      # initialize the score (goalies)\n",
    "    s_scores = np.zeros(num_s_agents)                      # initialize the score (strikers)\n",
    "    while True:\n",
    "        # select actions and send to environment\n",
    "        g_actions = np.random.randint(g_action_size, size=num_g_agents)\n",
    "        s_actions = np.random.randint(s_action_size, size=num_s_agents)\n",
    "        actions = dict(zip([g_brain_name, s_brain_name], \n",
    "                           [g_actions, s_actions]))\n",
    "        env_info = env.step(actions)                       \n",
    "        \n",
    "        # get next states\n",
    "        g_next_states = env_info[g_brain_name].vector_observations         \n",
    "        s_next_states = env_info[s_brain_name].vector_observations\n",
    "        \n",
    "        # get reward and update scores\n",
    "        g_rewards = env_info[g_brain_name].rewards  \n",
    "        s_rewards = env_info[s_brain_name].rewards\n",
    "        g_scores += g_rewards\n",
    "        s_scores += s_rewards\n",
    "        \n",
    "        # check if episode finished\n",
    "        done = np.any(env_info[g_brain_name].local_done)  \n",
    "        \n",
    "        # roll over states to next time step\n",
    "        g_states = g_next_states\n",
    "        s_states = s_next_states\n",
    "        \n",
    "        # exit loop if episode finished\n",
    "        if done:                                           \n",
    "            break\n",
    "    print('Scores from episode {}: {} (goalies), {} (strikers)'.format(i+1, g_scores, s_scores))"
   ]
  },
  {
   "cell_type": "code",
   "execution_count": 6,
   "metadata": {},
   "outputs": [],
   "source": [
    "env.close()"
   ]
  },
  {
   "cell_type": "code",
   "execution_count": null,
   "metadata": {},
   "outputs": [],
   "source": []
  }
 ],
 "metadata": {
  "kernelspec": {
   "display_name": "drlnd",
   "language": "python",
   "name": "drlnd"
  },
  "language_info": {
   "codemirror_mode": {
    "name": "ipython",
    "version": 3
   },
   "file_extension": ".py",
   "mimetype": "text/x-python",
   "name": "python",
   "nbconvert_exporter": "python",
   "pygments_lexer": "ipython3",
   "version": "3.7.4"
  }
 },
 "nbformat": 4,
 "nbformat_minor": 2
}
